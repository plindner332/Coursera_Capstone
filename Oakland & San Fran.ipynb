{
 "cells": [
  {
   "cell_type": "markdown",
   "metadata": {},
   "source": [
    "# **Oakland & San Fran Breweries**\n",
    "##### By Peter J. Lindner, Ph.D."
   ]
  },
  {
   "cell_type": "code",
   "execution_count": 1,
   "metadata": {},
   "outputs": [
    {
     "name": "stdout",
     "output_type": "stream",
     "text": [
      "Requirement already satisfied: geopy in c:\\users\\peter\\anaconda3\\lib\\site-packages (1.20.0)\n",
      "Requirement already satisfied: geographiclib<2,>=1.49 in c:\\users\\peter\\anaconda3\\lib\\site-packages (from geopy) (1.50)\n",
      "Note: you may need to restart the kernel to use updated packages.\n"
     ]
    }
   ],
   "source": [
    "pip install geopy"
   ]
  },
  {
   "cell_type": "code",
   "execution_count": 2,
   "metadata": {},
   "outputs": [
    {
     "name": "stdout",
     "output_type": "stream",
     "text": [
      "Libraries imported.\n"
     ]
    }
   ],
   "source": [
    "import numpy as np # library to handle data in a vectorized manner\n",
    "\n",
    "import pandas as pd # library for data analysis\n",
    "\n",
    "import json # library to handle JSON files\n",
    "\n",
    "#!conda install -c conda-forge geopy --yes # uncomment this line if you haven't completed the Foursquare API lab\n",
    "from geopy.geocoders import Nominatim # convert an address into latitude and longitude values\n",
    "\n",
    "import requests # library to handle requests\n",
    "from pandas.io.json import json_normalize # tranform JSON file into a pandas dataframe\n",
    "\n",
    "# Matplotlib and associated plotting modules\n",
    "import matplotlib.cm as cm\n",
    "import matplotlib.colors as colors\n",
    "\n",
    "# import k-means from clustering stage\n",
    "from sklearn.cluster import KMeans\n",
    "\n",
    "#!conda install -c conda-forge folium=0.5.0 --yes # uncomment this line if you haven't completed the Foursquare API lab\n",
    "import folium # map rendering library\n",
    "\n",
    "print('Libraries imported.')"
   ]
  },
  {
   "cell_type": "markdown",
   "metadata": {},
   "source": [
    "### Make a dataframe from FourSquare of Brewery, Brewpubs, etc."
   ]
  },
  {
   "cell_type": "code",
   "execution_count": 3,
   "metadata": {},
   "outputs": [
    {
     "name": "stdout",
     "output_type": "stream",
     "text": [
      "The geograpical coordinate of San Francisco are 37.7792808, -122.4192363.\n"
     ]
    }
   ],
   "source": [
    "address = 'San Francisco'\n",
    "\n",
    "geolocator = Nominatim(user_agent=\"SanFrancisco_explorer\")\n",
    "location = geolocator.geocode(address)\n",
    "latitude = location.latitude\n",
    "longitude = location.longitude\n",
    "print('The geograpical coordinate of San Francisco are {}, {}.'.format(latitude, longitude))"
   ]
  },
  {
   "cell_type": "markdown",
   "metadata": {},
   "source": [
    "Category id for:\n",
    "* Brewery is 50327c8591d4c4b30a586d5d\n",
    "* Beer garden is 4bf58dd8d48988d117941735\n",
    "\n",
    "https://developer.foursquare.com/docs/resources/categories"
   ]
  },
  {
   "cell_type": "code",
   "execution_count": 4,
   "metadata": {},
   "outputs": [
    {
     "name": "stdout",
     "output_type": "stream",
     "text": [
      "Your credentails:\n",
      "CLIENT_ID: 23CV1SKWTESEYTSKVVOS5MG5RE2X5PZ5BTYVJEDRNOJONGAH\n",
      "CLIENT_SECRET:SOP0UXDMPOZEFDO2TNSEWAQRTMGMYM5ZJWGU1KSDOFE0SSPR\n",
      "CATEGORY_ID:50327c8591d4c4b30a586d5d\n"
     ]
    }
   ],
   "source": [
    "CLIENT_ID = '23CV1SKWTESEYTSKVVOS5MG5RE2X5PZ5BTYVJEDRNOJONGAH' # your Foursquare ID\n",
    "CLIENT_SECRET = 'SOP0UXDMPOZEFDO2TNSEWAQRTMGMYM5ZJWGU1KSDOFE0SSPR' # your Foursquare Secret\n",
    "VERSION = '20180605' # Foursquare API version\n",
    "CATEGORY_ID = '50327c8591d4c4b30a586d5d'\n",
    "\n",
    "print('Your credentails:')\n",
    "print('CLIENT_ID: ' + CLIENT_ID)\n",
    "print('CLIENT_SECRET:' + CLIENT_SECRET)\n",
    "print('CATEGORY_ID:' + CATEGORY_ID)"
   ]
  },
  {
   "cell_type": "code",
   "execution_count": 5,
   "metadata": {},
   "outputs": [
    {
     "data": {
      "text/plain": [
       "'https://api.foursquare.com/v2/venues/explore?&client_id=23CV1SKWTESEYTSKVVOS5MG5RE2X5PZ5BTYVJEDRNOJONGAH&client_secret=SOP0UXDMPOZEFDO2TNSEWAQRTMGMYM5ZJWGU1KSDOFE0SSPR&v=20180605&ll=37.7792808,-122.4192363&radius=8000&limit=1000&categoryId=50327c8591d4c4b30a586d5d'"
      ]
     },
     "execution_count": 5,
     "metadata": {},
     "output_type": "execute_result"
    }
   ],
   "source": [
    "LIMIT = 1000 # limit of number of venues returned by Foursquare API\n",
    "radius = 8000 # define radius (8000meters ~ 5 miles)\n",
    " # create URL\n",
    "url = 'https://api.foursquare.com/v2/venues/explore?&client_id={}&client_secret={}&v={}&ll={},{}&radius={}&limit={}&categoryId={}'.format(\n",
    "    CLIENT_ID, \n",
    "    CLIENT_SECRET, \n",
    "    VERSION, \n",
    "    latitude, \n",
    "    longitude, \n",
    "    radius, \n",
    "    LIMIT,\n",
    "    CATEGORY_ID\n",
    ")\n",
    "url"
   ]
  },
  {
   "cell_type": "code",
   "execution_count": 6,
   "metadata": {},
   "outputs": [],
   "source": [
    "results = requests.get(url).json()"
   ]
  },
  {
   "cell_type": "code",
   "execution_count": 7,
   "metadata": {},
   "outputs": [],
   "source": [
    "def get_category_type(row):\n",
    "    try:\n",
    "        categories_list = row['categories']\n",
    "    except:\n",
    "        categories_list = row['venue.categories']\n",
    "        \n",
    "    if len(categories_list) == 0:\n",
    "        return None\n",
    "    else:\n",
    "        return categories_list[0]['name']"
   ]
  },
  {
   "cell_type": "code",
   "execution_count": 8,
   "metadata": {},
   "outputs": [
    {
     "data": {
      "text/html": [
       "<div>\n",
       "<style scoped>\n",
       "    .dataframe tbody tr th:only-of-type {\n",
       "        vertical-align: middle;\n",
       "    }\n",
       "\n",
       "    .dataframe tbody tr th {\n",
       "        vertical-align: top;\n",
       "    }\n",
       "\n",
       "    .dataframe thead th {\n",
       "        text-align: right;\n",
       "    }\n",
       "</style>\n",
       "<table border=\"1\" class=\"dataframe\">\n",
       "  <thead>\n",
       "    <tr style=\"text-align: right;\">\n",
       "      <th></th>\n",
       "      <th>name</th>\n",
       "      <th>categories</th>\n",
       "      <th>lat</th>\n",
       "      <th>lng</th>\n",
       "    </tr>\n",
       "  </thead>\n",
       "  <tbody>\n",
       "    <tr>\n",
       "      <td>0</td>\n",
       "      <td>Cellarmaker Brewing Company</td>\n",
       "      <td>Brewery</td>\n",
       "      <td>37.777116</td>\n",
       "      <td>-122.410714</td>\n",
       "    </tr>\n",
       "    <tr>\n",
       "      <td>1</td>\n",
       "      <td>Anchor Brewing Company</td>\n",
       "      <td>Brewery</td>\n",
       "      <td>37.763395</td>\n",
       "      <td>-122.401021</td>\n",
       "    </tr>\n",
       "    <tr>\n",
       "      <td>2</td>\n",
       "      <td>21st Amendment Brewery &amp; Restaurant</td>\n",
       "      <td>Brewery</td>\n",
       "      <td>37.782346</td>\n",
       "      <td>-122.392588</td>\n",
       "    </tr>\n",
       "    <tr>\n",
       "      <td>3</td>\n",
       "      <td>Local Brewing Co.</td>\n",
       "      <td>Brewery</td>\n",
       "      <td>37.776550</td>\n",
       "      <td>-122.397171</td>\n",
       "    </tr>\n",
       "    <tr>\n",
       "      <td>4</td>\n",
       "      <td>Southern Pacific Brewing</td>\n",
       "      <td>Brewery</td>\n",
       "      <td>37.760077</td>\n",
       "      <td>-122.414008</td>\n",
       "    </tr>\n",
       "    <tr>\n",
       "      <td>5</td>\n",
       "      <td>Anchor Public Taps</td>\n",
       "      <td>Brewery</td>\n",
       "      <td>37.764007</td>\n",
       "      <td>-122.401256</td>\n",
       "    </tr>\n",
       "    <tr>\n",
       "      <td>6</td>\n",
       "      <td>Black Sands Brewery</td>\n",
       "      <td>Brewery</td>\n",
       "      <td>37.771612</td>\n",
       "      <td>-122.433775</td>\n",
       "    </tr>\n",
       "    <tr>\n",
       "      <td>7</td>\n",
       "      <td>Woods Cervecería</td>\n",
       "      <td>Brewery</td>\n",
       "      <td>37.761230</td>\n",
       "      <td>-122.428530</td>\n",
       "    </tr>\n",
       "    <tr>\n",
       "      <td>8</td>\n",
       "      <td>Standard Deviant Brewing</td>\n",
       "      <td>Brewery</td>\n",
       "      <td>37.768361</td>\n",
       "      <td>-122.419516</td>\n",
       "    </tr>\n",
       "    <tr>\n",
       "      <td>9</td>\n",
       "      <td>Harmonic Brewing</td>\n",
       "      <td>Brewery</td>\n",
       "      <td>37.751553</td>\n",
       "      <td>-122.390070</td>\n",
       "    </tr>\n",
       "  </tbody>\n",
       "</table>\n",
       "</div>"
      ],
      "text/plain": [
       "                                  name categories        lat         lng\n",
       "0          Cellarmaker Brewing Company    Brewery  37.777116 -122.410714\n",
       "1               Anchor Brewing Company    Brewery  37.763395 -122.401021\n",
       "2  21st Amendment Brewery & Restaurant    Brewery  37.782346 -122.392588\n",
       "3                    Local Brewing Co.    Brewery  37.776550 -122.397171\n",
       "4             Southern Pacific Brewing    Brewery  37.760077 -122.414008\n",
       "5                   Anchor Public Taps    Brewery  37.764007 -122.401256\n",
       "6                  Black Sands Brewery    Brewery  37.771612 -122.433775\n",
       "7                     Woods Cervecería    Brewery  37.761230 -122.428530\n",
       "8             Standard Deviant Brewing    Brewery  37.768361 -122.419516\n",
       "9                     Harmonic Brewing    Brewery  37.751553 -122.390070"
      ]
     },
     "execution_count": 8,
     "metadata": {},
     "output_type": "execute_result"
    }
   ],
   "source": [
    "venues = results['response']['groups'][0]['items']\n",
    "    \n",
    "nearby_venues = json_normalize(venues) # flatten JSON\n",
    "\n",
    "# filter columns\n",
    "filtered_columns = ['venue.name', 'venue.categories', 'venue.location.lat', 'venue.location.lng']\n",
    "nearby_venues =nearby_venues.loc[:, filtered_columns]\n",
    "\n",
    "# filter the category for each row\n",
    "nearby_venues['venue.categories'] = nearby_venues.apply(get_category_type, axis=1)\n",
    "\n",
    "# clean columns\n",
    "nearby_venues.columns = [col.split(\".\")[-1] for col in nearby_venues.columns]\n",
    "\n",
    "nearby_venues.head(10)"
   ]
  },
  {
   "cell_type": "code",
   "execution_count": 9,
   "metadata": {},
   "outputs": [
    {
     "name": "stdout",
     "output_type": "stream",
     "text": [
      "69 venues were returned by Foursquare.\n"
     ]
    }
   ],
   "source": [
    "print('{} venues were returned by Foursquare.'.format(nearby_venues.shape[0]))"
   ]
  },
  {
   "cell_type": "code",
   "execution_count": 10,
   "metadata": {},
   "outputs": [],
   "source": [
    "unique_venues = nearby_venues.categories.unique()"
   ]
  },
  {
   "cell_type": "code",
   "execution_count": 11,
   "metadata": {},
   "outputs": [
    {
     "name": "stdout",
     "output_type": "stream",
     "text": [
      "['Brewery' 'Beer Bar' 'Bar' 'Gastropub' 'Beer Garden' 'Dive Bar'\n",
      " 'Pizza Place' 'Beer Store' 'BBQ Joint' 'American Restaurant'\n",
      " 'Liquor Store' 'Italian Restaurant' 'Chocolate Shop' 'Burger Joint'\n",
      " 'Café' 'General Travel' 'Winery']\n"
     ]
    }
   ],
   "source": [
    "print(unique_venues)"
   ]
  },
  {
   "cell_type": "code",
   "execution_count": 12,
   "metadata": {},
   "outputs": [],
   "source": [
    "Breweries = nearby_venues"
   ]
  },
  {
   "cell_type": "code",
   "execution_count": 13,
   "metadata": {},
   "outputs": [
    {
     "data": {
      "text/html": [
       "<div>\n",
       "<style scoped>\n",
       "    .dataframe tbody tr th:only-of-type {\n",
       "        vertical-align: middle;\n",
       "    }\n",
       "\n",
       "    .dataframe tbody tr th {\n",
       "        vertical-align: top;\n",
       "    }\n",
       "\n",
       "    .dataframe thead th {\n",
       "        text-align: right;\n",
       "    }\n",
       "</style>\n",
       "<table border=\"1\" class=\"dataframe\">\n",
       "  <thead>\n",
       "    <tr style=\"text-align: right;\">\n",
       "      <th></th>\n",
       "      <th>name</th>\n",
       "      <th>categories</th>\n",
       "      <th>lat</th>\n",
       "      <th>lng</th>\n",
       "    </tr>\n",
       "  </thead>\n",
       "  <tbody>\n",
       "    <tr>\n",
       "      <td>0</td>\n",
       "      <td>Cellarmaker Brewing Company</td>\n",
       "      <td>Brewery</td>\n",
       "      <td>37.777116</td>\n",
       "      <td>-122.410714</td>\n",
       "    </tr>\n",
       "    <tr>\n",
       "      <td>1</td>\n",
       "      <td>Anchor Brewing Company</td>\n",
       "      <td>Brewery</td>\n",
       "      <td>37.763395</td>\n",
       "      <td>-122.401021</td>\n",
       "    </tr>\n",
       "    <tr>\n",
       "      <td>2</td>\n",
       "      <td>21st Amendment Brewery &amp; Restaurant</td>\n",
       "      <td>Brewery</td>\n",
       "      <td>37.782346</td>\n",
       "      <td>-122.392588</td>\n",
       "    </tr>\n",
       "    <tr>\n",
       "      <td>3</td>\n",
       "      <td>Local Brewing Co.</td>\n",
       "      <td>Brewery</td>\n",
       "      <td>37.776550</td>\n",
       "      <td>-122.397171</td>\n",
       "    </tr>\n",
       "    <tr>\n",
       "      <td>4</td>\n",
       "      <td>Southern Pacific Brewing</td>\n",
       "      <td>Brewery</td>\n",
       "      <td>37.760077</td>\n",
       "      <td>-122.414008</td>\n",
       "    </tr>\n",
       "  </tbody>\n",
       "</table>\n",
       "</div>"
      ],
      "text/plain": [
       "                                  name categories        lat         lng\n",
       "0          Cellarmaker Brewing Company    Brewery  37.777116 -122.410714\n",
       "1               Anchor Brewing Company    Brewery  37.763395 -122.401021\n",
       "2  21st Amendment Brewery & Restaurant    Brewery  37.782346 -122.392588\n",
       "3                    Local Brewing Co.    Brewery  37.776550 -122.397171\n",
       "4             Southern Pacific Brewing    Brewery  37.760077 -122.414008"
      ]
     },
     "execution_count": 13,
     "metadata": {},
     "output_type": "execute_result"
    }
   ],
   "source": [
    "Breweries.head()"
   ]
  },
  {
   "cell_type": "markdown",
   "metadata": {},
   "source": [
    "### Cluster the data based on DBSCAN Clustering"
   ]
  },
  {
   "cell_type": "code",
   "execution_count": 14,
   "metadata": {},
   "outputs": [],
   "source": [
    "X = Breweries.drop(['name','categories'], axis = 1).values"
   ]
  },
  {
   "cell_type": "code",
   "execution_count": 15,
   "metadata": {},
   "outputs": [
    {
     "data": {
      "text/plain": [
       "numpy.ndarray"
      ]
     },
     "execution_count": 15,
     "metadata": {},
     "output_type": "execute_result"
    }
   ],
   "source": [
    "type(X)"
   ]
  },
  {
   "cell_type": "code",
   "execution_count": 16,
   "metadata": {},
   "outputs": [],
   "source": [
    "epsilon = .2\n",
    "minimumSamples = 4"
   ]
  },
  {
   "cell_type": "code",
   "execution_count": 17,
   "metadata": {},
   "outputs": [
    {
     "data": {
      "text/html": [
       "<div>\n",
       "<style scoped>\n",
       "    .dataframe tbody tr th:only-of-type {\n",
       "        vertical-align: middle;\n",
       "    }\n",
       "\n",
       "    .dataframe tbody tr th {\n",
       "        vertical-align: top;\n",
       "    }\n",
       "\n",
       "    .dataframe thead th {\n",
       "        text-align: right;\n",
       "    }\n",
       "</style>\n",
       "<table border=\"1\" class=\"dataframe\">\n",
       "  <thead>\n",
       "    <tr style=\"text-align: right;\">\n",
       "      <th></th>\n",
       "      <th>name</th>\n",
       "      <th>categories</th>\n",
       "      <th>lat</th>\n",
       "      <th>lng</th>\n",
       "      <th>Clus_DB</th>\n",
       "    </tr>\n",
       "  </thead>\n",
       "  <tbody>\n",
       "    <tr>\n",
       "      <td>0</td>\n",
       "      <td>Cellarmaker Brewing Company</td>\n",
       "      <td>Brewery</td>\n",
       "      <td>37.777116</td>\n",
       "      <td>-122.410714</td>\n",
       "      <td>4</td>\n",
       "    </tr>\n",
       "    <tr>\n",
       "      <td>1</td>\n",
       "      <td>Anchor Brewing Company</td>\n",
       "      <td>Brewery</td>\n",
       "      <td>37.763395</td>\n",
       "      <td>-122.401021</td>\n",
       "      <td>5</td>\n",
       "    </tr>\n",
       "    <tr>\n",
       "      <td>2</td>\n",
       "      <td>21st Amendment Brewery &amp; Restaurant</td>\n",
       "      <td>Brewery</td>\n",
       "      <td>37.782346</td>\n",
       "      <td>-122.392588</td>\n",
       "      <td>2</td>\n",
       "    </tr>\n",
       "    <tr>\n",
       "      <td>3</td>\n",
       "      <td>Local Brewing Co.</td>\n",
       "      <td>Brewery</td>\n",
       "      <td>37.776550</td>\n",
       "      <td>-122.397171</td>\n",
       "      <td>2</td>\n",
       "    </tr>\n",
       "    <tr>\n",
       "      <td>4</td>\n",
       "      <td>Southern Pacific Brewing</td>\n",
       "      <td>Brewery</td>\n",
       "      <td>37.760077</td>\n",
       "      <td>-122.414008</td>\n",
       "      <td>1</td>\n",
       "    </tr>\n",
       "  </tbody>\n",
       "</table>\n",
       "</div>"
      ],
      "text/plain": [
       "                                  name categories        lat         lng  \\\n",
       "0          Cellarmaker Brewing Company    Brewery  37.777116 -122.410714   \n",
       "1               Anchor Brewing Company    Brewery  37.763395 -122.401021   \n",
       "2  21st Amendment Brewery & Restaurant    Brewery  37.782346 -122.392588   \n",
       "3                    Local Brewing Co.    Brewery  37.776550 -122.397171   \n",
       "4             Southern Pacific Brewing    Brewery  37.760077 -122.414008   \n",
       "\n",
       "   Clus_DB  \n",
       "0        4  \n",
       "1        5  \n",
       "2        2  \n",
       "3        2  \n",
       "4        1  "
      ]
     },
     "execution_count": 17,
     "metadata": {},
     "output_type": "execute_result"
    }
   ],
   "source": [
    "from sklearn.cluster import DBSCAN\n",
    "import sklearn.utils\n",
    "from sklearn.preprocessing import StandardScaler\n",
    "sklearn.utils.check_random_state(1000)\n",
    "X = StandardScaler().fit_transform(X)\n",
    "\n",
    "# Compute DBSCAN\n",
    "db = DBSCAN(eps=epsilon, min_samples=minimumSamples).fit(X)\n",
    "core_samples_mask = np.zeros_like(db.labels_, dtype=bool)\n",
    "core_samples_mask[db.core_sample_indices_] = True\n",
    "labels = db.labels_+2\n",
    "Breweries[\"Clus_DB\"]=labels\n",
    "\n",
    "realClusterNum=len(set(labels)) - (1 if -1 in labels else 0)\n",
    "clusterNum = len(set(labels)) \n",
    "\n",
    "# A sample of clusters\n",
    "Breweries[[\"name\",\"categories\",\"lat\",\"lng\",\"Clus_DB\"]].head(5)"
   ]
  },
  {
   "cell_type": "code",
   "execution_count": 18,
   "metadata": {},
   "outputs": [
    {
     "data": {
      "text/plain": [
       "{1, 2, 3, 4, 5}"
      ]
     },
     "execution_count": 18,
     "metadata": {},
     "output_type": "execute_result"
    }
   ],
   "source": [
    "set(labels)"
   ]
  },
  {
   "cell_type": "code",
   "execution_count": 19,
   "metadata": {},
   "outputs": [],
   "source": [
    "num_cluster= max(set(labels))"
   ]
  },
  {
   "cell_type": "code",
   "execution_count": 20,
   "metadata": {
    "scrolled": false
   },
   "outputs": [
    {
     "data": {
      "text/html": [
       "<div style=\"width:100%;\"><div style=\"position:relative;width:100%;height:0;padding-bottom:60%;\"><iframe src=\"data:text/html;charset=utf-8;base64,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\" style=\"position:absolute;width:100%;height:100%;left:0;top:0;border:none !important;\" allowfullscreen webkitallowfullscreen mozallowfullscreen></iframe></div></div>"
      ],
      "text/plain": [
       "<folium.folium.Map at 0x209fb888ec8>"
      ]
     },
     "execution_count": 20,
     "metadata": {},
     "output_type": "execute_result"
    }
   ],
   "source": [
    "# create map of Portland with Breweries using latitude and longitude values\n",
    "map_clusters = folium.Map(location=[latitude, longitude], zoom_start=12)\n",
    "\n",
    "# set color scheme for the clusters\n",
    "x = np.arange(num_cluster)\n",
    "ys = [i + x + (i*x)**2 for i in range(num_cluster)]\n",
    "colors_array = cm.rainbow(np.linspace(0, 1, len(ys)))\n",
    "rainbow = [colors.rgb2hex(i) for i in colors_array]\n",
    "\n",
    "# add markers to map  \n",
    "markers_colors = []\n",
    "for lat, lng, name, cat, cluster in zip(Breweries['lat'], Breweries['lng'], Breweries['name'], Breweries['categories'], Breweries['Clus_DB']):\n",
    "    #label = folium.Popup(' Cluster ' + str(cluster), parse_html=True)\n",
    "    label = '{}, {}'.format(name, cluster) #'{}, {}'.format(name, cat)\n",
    "    folium.CircleMarker(\n",
    "        [lat, lng],\n",
    "        radius=5,\n",
    "        popup=label,\n",
    "        color=rainbow[cluster-2],\n",
    "        fill=True,\n",
    "        fill_color=rainbow[cluster-2],\n",
    "        fill_opacity=0.8).add_to(map_clusters)   \n",
    "    \n",
    "map_clusters"
   ]
  },
  {
   "cell_type": "code",
   "execution_count": 21,
   "metadata": {},
   "outputs": [
    {
     "data": {
      "text/html": [
       "<div>\n",
       "<style scoped>\n",
       "    .dataframe tbody tr th:only-of-type {\n",
       "        vertical-align: middle;\n",
       "    }\n",
       "\n",
       "    .dataframe tbody tr th {\n",
       "        vertical-align: top;\n",
       "    }\n",
       "\n",
       "    .dataframe thead th {\n",
       "        text-align: right;\n",
       "    }\n",
       "</style>\n",
       "<table border=\"1\" class=\"dataframe\">\n",
       "  <thead>\n",
       "    <tr style=\"text-align: right;\">\n",
       "      <th></th>\n",
       "      <th>name</th>\n",
       "    </tr>\n",
       "  </thead>\n",
       "  <tbody>\n",
       "    <tr>\n",
       "      <td>2</td>\n",
       "      <td>21st Amendment Brewery &amp; Restaurant</td>\n",
       "    </tr>\n",
       "    <tr>\n",
       "      <td>3</td>\n",
       "      <td>Local Brewing Co.</td>\n",
       "    </tr>\n",
       "    <tr>\n",
       "      <td>13</td>\n",
       "      <td>Black Hammer Brewing</td>\n",
       "    </tr>\n",
       "    <tr>\n",
       "      <td>61</td>\n",
       "      <td>Pacific Brewing Laboratory</td>\n",
       "    </tr>\n",
       "  </tbody>\n",
       "</table>\n",
       "</div>"
      ],
      "text/plain": [
       "                                   name\n",
       "2   21st Amendment Brewery & Restaurant\n",
       "3                     Local Brewing Co.\n",
       "13                 Black Hammer Brewing\n",
       "61           Pacific Brewing Laboratory"
      ]
     },
     "execution_count": 21,
     "metadata": {},
     "output_type": "execute_result"
    }
   ],
   "source": [
    "Breweries.loc[Breweries['Clus_DB'] == 2, Breweries.columns[[0]]]"
   ]
  },
  {
   "cell_type": "code",
   "execution_count": 22,
   "metadata": {},
   "outputs": [
    {
     "data": {
      "text/html": [
       "<div>\n",
       "<style scoped>\n",
       "    .dataframe tbody tr th:only-of-type {\n",
       "        vertical-align: middle;\n",
       "    }\n",
       "\n",
       "    .dataframe tbody tr th {\n",
       "        vertical-align: top;\n",
       "    }\n",
       "\n",
       "    .dataframe thead th {\n",
       "        text-align: right;\n",
       "    }\n",
       "</style>\n",
       "<table border=\"1\" class=\"dataframe\">\n",
       "  <thead>\n",
       "    <tr style=\"text-align: right;\">\n",
       "      <th></th>\n",
       "      <th>name</th>\n",
       "    </tr>\n",
       "  </thead>\n",
       "  <tbody>\n",
       "    <tr>\n",
       "      <td>16</td>\n",
       "      <td>Bartlett Hall</td>\n",
       "    </tr>\n",
       "    <tr>\n",
       "      <td>23</td>\n",
       "      <td>ThirstyBear Brewing Company</td>\n",
       "    </tr>\n",
       "    <tr>\n",
       "      <td>35</td>\n",
       "      <td>Mikkeller Bar SF</td>\n",
       "    </tr>\n",
       "    <tr>\n",
       "      <td>39</td>\n",
       "      <td>Hopwater Distribution</td>\n",
       "    </tr>\n",
       "    <tr>\n",
       "      <td>42</td>\n",
       "      <td>Topsy's Fun House</td>\n",
       "    </tr>\n",
       "    <tr>\n",
       "      <td>59</td>\n",
       "      <td>Bartlett Brewing Co.</td>\n",
       "    </tr>\n",
       "    <tr>\n",
       "      <td>60</td>\n",
       "      <td>Super Duper Burgers</td>\n",
       "    </tr>\n",
       "  </tbody>\n",
       "</table>\n",
       "</div>"
      ],
      "text/plain": [
       "                           name\n",
       "16                Bartlett Hall\n",
       "23  ThirstyBear Brewing Company\n",
       "35             Mikkeller Bar SF\n",
       "39        Hopwater Distribution\n",
       "42            Topsy's Fun House\n",
       "59         Bartlett Brewing Co.\n",
       "60          Super Duper Burgers"
      ]
     },
     "execution_count": 22,
     "metadata": {},
     "output_type": "execute_result"
    }
   ],
   "source": [
    "Breweries.loc[Breweries['Clus_DB'] == 3, Breweries.columns[[0]]]"
   ]
  },
  {
   "cell_type": "code",
   "execution_count": 23,
   "metadata": {},
   "outputs": [
    {
     "data": {
      "text/html": [
       "<div>\n",
       "<style scoped>\n",
       "    .dataframe tbody tr th:only-of-type {\n",
       "        vertical-align: middle;\n",
       "    }\n",
       "\n",
       "    .dataframe tbody tr th {\n",
       "        vertical-align: top;\n",
       "    }\n",
       "\n",
       "    .dataframe thead th {\n",
       "        text-align: right;\n",
       "    }\n",
       "</style>\n",
       "<table border=\"1\" class=\"dataframe\">\n",
       "  <thead>\n",
       "    <tr style=\"text-align: right;\">\n",
       "      <th></th>\n",
       "      <th>name</th>\n",
       "    </tr>\n",
       "  </thead>\n",
       "  <tbody>\n",
       "    <tr>\n",
       "      <td>0</td>\n",
       "      <td>Cellarmaker Brewing Company</td>\n",
       "    </tr>\n",
       "    <tr>\n",
       "      <td>30</td>\n",
       "      <td>The Beer Hall</td>\n",
       "    </tr>\n",
       "    <tr>\n",
       "      <td>37</td>\n",
       "      <td>Fermentation Lab</td>\n",
       "    </tr>\n",
       "    <tr>\n",
       "      <td>55</td>\n",
       "      <td>K-OZ Restaurant &amp; Brewery</td>\n",
       "    </tr>\n",
       "  </tbody>\n",
       "</table>\n",
       "</div>"
      ],
      "text/plain": [
       "                           name\n",
       "0   Cellarmaker Brewing Company\n",
       "30                The Beer Hall\n",
       "37             Fermentation Lab\n",
       "55    K-OZ Restaurant & Brewery"
      ]
     },
     "execution_count": 23,
     "metadata": {},
     "output_type": "execute_result"
    }
   ],
   "source": [
    "Breweries.loc[Breweries['Clus_DB'] == 4, Breweries.columns[[0]]]"
   ]
  },
  {
   "cell_type": "code",
   "execution_count": 24,
   "metadata": {},
   "outputs": [
    {
     "data": {
      "text/html": [
       "<div>\n",
       "<style scoped>\n",
       "    .dataframe tbody tr th:only-of-type {\n",
       "        vertical-align: middle;\n",
       "    }\n",
       "\n",
       "    .dataframe tbody tr th {\n",
       "        vertical-align: top;\n",
       "    }\n",
       "\n",
       "    .dataframe thead th {\n",
       "        text-align: right;\n",
       "    }\n",
       "</style>\n",
       "<table border=\"1\" class=\"dataframe\">\n",
       "  <thead>\n",
       "    <tr style=\"text-align: right;\">\n",
       "      <th></th>\n",
       "      <th>name</th>\n",
       "    </tr>\n",
       "  </thead>\n",
       "  <tbody>\n",
       "    <tr>\n",
       "      <td>1</td>\n",
       "      <td>Anchor Brewing Company</td>\n",
       "    </tr>\n",
       "    <tr>\n",
       "      <td>5</td>\n",
       "      <td>Anchor Public Taps</td>\n",
       "    </tr>\n",
       "    <tr>\n",
       "      <td>41</td>\n",
       "      <td>Oda Restaurant &amp; Brewery</td>\n",
       "    </tr>\n",
       "    <tr>\n",
       "      <td>52</td>\n",
       "      <td>Connecticut Yankee</td>\n",
       "    </tr>\n",
       "  </tbody>\n",
       "</table>\n",
       "</div>"
      ],
      "text/plain": [
       "                        name\n",
       "1     Anchor Brewing Company\n",
       "5         Anchor Public Taps\n",
       "41  Oda Restaurant & Brewery\n",
       "52        Connecticut Yankee"
      ]
     },
     "execution_count": 24,
     "metadata": {},
     "output_type": "execute_result"
    }
   ],
   "source": [
    "Breweries.loc[Breweries['Clus_DB'] == 5, Breweries.columns[[0]]]"
   ]
  },
  {
   "cell_type": "markdown",
   "metadata": {},
   "source": [
    "###  Oakland"
   ]
  },
  {
   "cell_type": "code",
   "execution_count": 25,
   "metadata": {},
   "outputs": [
    {
     "name": "stdout",
     "output_type": "stream",
     "text": [
      "The geograpical coordinate of Oakland are 37.8044557, -122.2713563.\n"
     ]
    }
   ],
   "source": [
    "address = 'Oakland'\n",
    "\n",
    "geolocator = Nominatim(user_agent=\"Oakland_explorer\")\n",
    "location = geolocator.geocode(address)\n",
    "latitude = location.latitude\n",
    "longitude = location.longitude\n",
    "print('The geograpical coordinate of Oakland are {}, {}.'.format(latitude, longitude))"
   ]
  },
  {
   "cell_type": "code",
   "execution_count": 26,
   "metadata": {},
   "outputs": [
    {
     "data": {
      "text/plain": [
       "'https://api.foursquare.com/v2/venues/explore?&client_id=23CV1SKWTESEYTSKVVOS5MG5RE2X5PZ5BTYVJEDRNOJONGAH&client_secret=SOP0UXDMPOZEFDO2TNSEWAQRTMGMYM5ZJWGU1KSDOFE0SSPR&v=20180605&ll=37.8044557,-122.2713563&radius=8000&limit=1000&categoryId=50327c8591d4c4b30a586d5d'"
      ]
     },
     "execution_count": 26,
     "metadata": {},
     "output_type": "execute_result"
    }
   ],
   "source": [
    "LIMIT = 1000 # limit of number of venues returned by Foursquare API\n",
    "radius = 8000 # define radius (8000meters ~ 5 miles)\n",
    " # create URL\n",
    "url = 'https://api.foursquare.com/v2/venues/explore?&client_id={}&client_secret={}&v={}&ll={},{}&radius={}&limit={}&categoryId={}'.format(\n",
    "    CLIENT_ID, \n",
    "    CLIENT_SECRET, \n",
    "    VERSION, \n",
    "    latitude, \n",
    "    longitude, \n",
    "    radius, \n",
    "    LIMIT,\n",
    "    CATEGORY_ID\n",
    ")\n",
    "url"
   ]
  },
  {
   "cell_type": "code",
   "execution_count": 27,
   "metadata": {},
   "outputs": [],
   "source": [
    "results = requests.get(url).json()"
   ]
  },
  {
   "cell_type": "code",
   "execution_count": 66,
   "metadata": {},
   "outputs": [],
   "source": [
    "epsilon = .21\n",
    "minimumSamples = 3"
   ]
  },
  {
   "cell_type": "code",
   "execution_count": 67,
   "metadata": {},
   "outputs": [],
   "source": [
    "def get_category_type(row):\n",
    "    try:\n",
    "        categories_list = row['categories']\n",
    "    except:\n",
    "        categories_list = row['venue.categories']\n",
    "        \n",
    "    if len(categories_list) == 0:\n",
    "        return None\n",
    "    else:\n",
    "        return categories_list[0]['name']"
   ]
  },
  {
   "cell_type": "code",
   "execution_count": 68,
   "metadata": {
    "scrolled": true
   },
   "outputs": [
    {
     "data": {
      "text/html": [
       "<div>\n",
       "<style scoped>\n",
       "    .dataframe tbody tr th:only-of-type {\n",
       "        vertical-align: middle;\n",
       "    }\n",
       "\n",
       "    .dataframe tbody tr th {\n",
       "        vertical-align: top;\n",
       "    }\n",
       "\n",
       "    .dataframe thead th {\n",
       "        text-align: right;\n",
       "    }\n",
       "</style>\n",
       "<table border=\"1\" class=\"dataframe\">\n",
       "  <thead>\n",
       "    <tr style=\"text-align: right;\">\n",
       "      <th></th>\n",
       "      <th>name</th>\n",
       "      <th>categories</th>\n",
       "      <th>lat</th>\n",
       "      <th>lng</th>\n",
       "    </tr>\n",
       "  </thead>\n",
       "  <tbody>\n",
       "    <tr>\n",
       "      <td>0</td>\n",
       "      <td>Woods Bar &amp; Brewery</td>\n",
       "      <td>Brewery</td>\n",
       "      <td>37.806889</td>\n",
       "      <td>-122.270415</td>\n",
       "    </tr>\n",
       "    <tr>\n",
       "      <td>1</td>\n",
       "      <td>Original Pattern Brewing Company</td>\n",
       "      <td>Brewery</td>\n",
       "      <td>37.795997</td>\n",
       "      <td>-122.271575</td>\n",
       "    </tr>\n",
       "    <tr>\n",
       "      <td>2</td>\n",
       "      <td>Diving Dog Brewhouse</td>\n",
       "      <td>Brewery</td>\n",
       "      <td>37.807751</td>\n",
       "      <td>-122.269858</td>\n",
       "    </tr>\n",
       "    <tr>\n",
       "      <td>3</td>\n",
       "      <td>Almanac Beer Co. Barrel House &amp; Taproom</td>\n",
       "      <td>Brewery</td>\n",
       "      <td>37.783144</td>\n",
       "      <td>-122.298627</td>\n",
       "    </tr>\n",
       "    <tr>\n",
       "      <td>4</td>\n",
       "      <td>Drake's Dealership</td>\n",
       "      <td>Brewery</td>\n",
       "      <td>37.812825</td>\n",
       "      <td>-122.266742</td>\n",
       "    </tr>\n",
       "    <tr>\n",
       "      <td>5</td>\n",
       "      <td>Old Kan Beer &amp; Co.</td>\n",
       "      <td>Brewery</td>\n",
       "      <td>37.799681</td>\n",
       "      <td>-122.287634</td>\n",
       "    </tr>\n",
       "    <tr>\n",
       "      <td>6</td>\n",
       "      <td>Temescal Brewing</td>\n",
       "      <td>Brewery</td>\n",
       "      <td>37.830427</td>\n",
       "      <td>-122.264394</td>\n",
       "    </tr>\n",
       "    <tr>\n",
       "      <td>7</td>\n",
       "      <td>Oakland United Beerworks</td>\n",
       "      <td>Brewery</td>\n",
       "      <td>37.799560</td>\n",
       "      <td>-122.287930</td>\n",
       "    </tr>\n",
       "    <tr>\n",
       "      <td>8</td>\n",
       "      <td>Faction Brewing</td>\n",
       "      <td>Brewery</td>\n",
       "      <td>37.786619</td>\n",
       "      <td>-122.309823</td>\n",
       "    </tr>\n",
       "    <tr>\n",
       "      <td>9</td>\n",
       "      <td>Ghost Town Brewing</td>\n",
       "      <td>Brewery</td>\n",
       "      <td>37.814237</td>\n",
       "      <td>-122.284287</td>\n",
       "    </tr>\n",
       "  </tbody>\n",
       "</table>\n",
       "</div>"
      ],
      "text/plain": [
       "                                      name categories        lat         lng\n",
       "0                      Woods Bar & Brewery    Brewery  37.806889 -122.270415\n",
       "1         Original Pattern Brewing Company    Brewery  37.795997 -122.271575\n",
       "2                     Diving Dog Brewhouse    Brewery  37.807751 -122.269858\n",
       "3  Almanac Beer Co. Barrel House & Taproom    Brewery  37.783144 -122.298627\n",
       "4                       Drake's Dealership    Brewery  37.812825 -122.266742\n",
       "5                       Old Kan Beer & Co.    Brewery  37.799681 -122.287634\n",
       "6                         Temescal Brewing    Brewery  37.830427 -122.264394\n",
       "7                 Oakland United Beerworks    Brewery  37.799560 -122.287930\n",
       "8                          Faction Brewing    Brewery  37.786619 -122.309823\n",
       "9                       Ghost Town Brewing    Brewery  37.814237 -122.284287"
      ]
     },
     "execution_count": 68,
     "metadata": {},
     "output_type": "execute_result"
    }
   ],
   "source": [
    "venues = results['response']['groups'][0]['items']\n",
    "    \n",
    "nearby_venues = json_normalize(venues) # flatten JSON\n",
    "\n",
    "# filter columns\n",
    "filtered_columns = ['venue.name', 'venue.categories', 'venue.location.lat', 'venue.location.lng']\n",
    "nearby_venues =nearby_venues.loc[:, filtered_columns]\n",
    "\n",
    "# filter the category for each row\n",
    "nearby_venues['venue.categories'] = nearby_venues.apply(get_category_type, axis=1)\n",
    "\n",
    "# clean columns\n",
    "nearby_venues.columns = [col.split(\".\")[-1] for col in nearby_venues.columns]\n",
    "\n",
    "nearby_venues.head(10)"
   ]
  },
  {
   "cell_type": "code",
   "execution_count": 69,
   "metadata": {},
   "outputs": [
    {
     "name": "stdout",
     "output_type": "stream",
     "text": [
      "31 venues were returned by Foursquare.\n"
     ]
    }
   ],
   "source": [
    "print('{} venues were returned by Foursquare.'.format(nearby_venues.shape[0]))"
   ]
  },
  {
   "cell_type": "code",
   "execution_count": 70,
   "metadata": {},
   "outputs": [],
   "source": [
    "Breweries = nearby_venues\n",
    "X = Breweries.drop(['name','categories'], axis = 1).values"
   ]
  },
  {
   "cell_type": "code",
   "execution_count": 71,
   "metadata": {},
   "outputs": [
    {
     "data": {
      "text/html": [
       "<div>\n",
       "<style scoped>\n",
       "    .dataframe tbody tr th:only-of-type {\n",
       "        vertical-align: middle;\n",
       "    }\n",
       "\n",
       "    .dataframe tbody tr th {\n",
       "        vertical-align: top;\n",
       "    }\n",
       "\n",
       "    .dataframe thead th {\n",
       "        text-align: right;\n",
       "    }\n",
       "</style>\n",
       "<table border=\"1\" class=\"dataframe\">\n",
       "  <thead>\n",
       "    <tr style=\"text-align: right;\">\n",
       "      <th></th>\n",
       "      <th>name</th>\n",
       "      <th>categories</th>\n",
       "      <th>lat</th>\n",
       "      <th>lng</th>\n",
       "      <th>Clus_DB</th>\n",
       "    </tr>\n",
       "  </thead>\n",
       "  <tbody>\n",
       "    <tr>\n",
       "      <td>0</td>\n",
       "      <td>Woods Bar &amp; Brewery</td>\n",
       "      <td>Brewery</td>\n",
       "      <td>37.806889</td>\n",
       "      <td>-122.270415</td>\n",
       "      <td>2</td>\n",
       "    </tr>\n",
       "    <tr>\n",
       "      <td>1</td>\n",
       "      <td>Original Pattern Brewing Company</td>\n",
       "      <td>Brewery</td>\n",
       "      <td>37.795997</td>\n",
       "      <td>-122.271575</td>\n",
       "      <td>3</td>\n",
       "    </tr>\n",
       "    <tr>\n",
       "      <td>2</td>\n",
       "      <td>Diving Dog Brewhouse</td>\n",
       "      <td>Brewery</td>\n",
       "      <td>37.807751</td>\n",
       "      <td>-122.269858</td>\n",
       "      <td>2</td>\n",
       "    </tr>\n",
       "    <tr>\n",
       "      <td>3</td>\n",
       "      <td>Almanac Beer Co. Barrel House &amp; Taproom</td>\n",
       "      <td>Brewery</td>\n",
       "      <td>37.783144</td>\n",
       "      <td>-122.298627</td>\n",
       "      <td>1</td>\n",
       "    </tr>\n",
       "    <tr>\n",
       "      <td>4</td>\n",
       "      <td>Drake's Dealership</td>\n",
       "      <td>Brewery</td>\n",
       "      <td>37.812825</td>\n",
       "      <td>-122.266742</td>\n",
       "      <td>2</td>\n",
       "    </tr>\n",
       "  </tbody>\n",
       "</table>\n",
       "</div>"
      ],
      "text/plain": [
       "                                      name categories        lat         lng  \\\n",
       "0                      Woods Bar & Brewery    Brewery  37.806889 -122.270415   \n",
       "1         Original Pattern Brewing Company    Brewery  37.795997 -122.271575   \n",
       "2                     Diving Dog Brewhouse    Brewery  37.807751 -122.269858   \n",
       "3  Almanac Beer Co. Barrel House & Taproom    Brewery  37.783144 -122.298627   \n",
       "4                       Drake's Dealership    Brewery  37.812825 -122.266742   \n",
       "\n",
       "   Clus_DB  \n",
       "0        2  \n",
       "1        3  \n",
       "2        2  \n",
       "3        1  \n",
       "4        2  "
      ]
     },
     "execution_count": 71,
     "metadata": {},
     "output_type": "execute_result"
    }
   ],
   "source": [
    "from sklearn.cluster import DBSCAN\n",
    "import sklearn.utils\n",
    "from sklearn.preprocessing import StandardScaler\n",
    "sklearn.utils.check_random_state(1000)\n",
    "X = StandardScaler().fit_transform(X)\n",
    "\n",
    "# Compute DBSCAN\n",
    "db = DBSCAN(eps=epsilon, min_samples=minimumSamples).fit(X)\n",
    "core_samples_mask = np.zeros_like(db.labels_, dtype=bool)\n",
    "core_samples_mask[db.core_sample_indices_] = True\n",
    "labels = db.labels_+2\n",
    "Breweries[\"Clus_DB\"]=labels\n",
    "\n",
    "realClusterNum=len(set(labels)) - (1 if -1 in labels else 0)\n",
    "clusterNum = len(set(labels)) \n",
    "\n",
    "# A sample of clusters\n",
    "Breweries[[\"name\",\"categories\",\"lat\",\"lng\",\"Clus_DB\"]].head(5)"
   ]
  },
  {
   "cell_type": "code",
   "execution_count": 72,
   "metadata": {
    "scrolled": true
   },
   "outputs": [
    {
     "data": {
      "text/html": [
       "<div style=\"width:100%;\"><div style=\"position:relative;width:100%;height:0;padding-bottom:60%;\"><iframe src=\"data:text/html;charset=utf-8;base64,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\" style=\"position:absolute;width:100%;height:100%;left:0;top:0;border:none !important;\" allowfullscreen webkitallowfullscreen mozallowfullscreen></iframe></div></div>"
      ],
      "text/plain": [
       "<folium.folium.Map at 0x209fbb0ed08>"
      ]
     },
     "execution_count": 72,
     "metadata": {},
     "output_type": "execute_result"
    }
   ],
   "source": [
    "# create map of Portland with Breweries using latitude and longitude values\n",
    "map_clusters = folium.Map(location=[latitude, longitude], zoom_start=12)\n",
    "\n",
    "# set color scheme for the clusters\n",
    "x = np.arange(num_cluster)\n",
    "ys = [i + x + (i*x)**2 for i in range(num_cluster)]\n",
    "colors_array = cm.rainbow(np.linspace(0, 1, len(ys)))\n",
    "rainbow = [colors.rgb2hex(i) for i in colors_array]\n",
    "\n",
    "# add markers to map  \n",
    "markers_colors = []\n",
    "for lat, lng, name, cat, cluster in zip(Breweries['lat'], Breweries['lng'], Breweries['name'], Breweries['categories'], Breweries['Clus_DB']):\n",
    "    #label = folium.Popup(' Cluster ' + str(cluster), parse_html=True)\n",
    "    label = '{}, {}'.format(name, cluster) #'{}, {}'.format(name, cat)\n",
    "    folium.CircleMarker(\n",
    "        [lat, lng],\n",
    "        radius=5,\n",
    "        popup=label,\n",
    "        color=rainbow[cluster-2],\n",
    "        fill=True,\n",
    "        fill_color=rainbow[cluster-2],\n",
    "        fill_opacity=0.8).add_to(map_clusters)   \n",
    "    \n",
    "map_clusters"
   ]
  },
  {
   "cell_type": "code",
   "execution_count": 73,
   "metadata": {
    "scrolled": true
   },
   "outputs": [
    {
     "data": {
      "text/html": [
       "<div>\n",
       "<style scoped>\n",
       "    .dataframe tbody tr th:only-of-type {\n",
       "        vertical-align: middle;\n",
       "    }\n",
       "\n",
       "    .dataframe tbody tr th {\n",
       "        vertical-align: top;\n",
       "    }\n",
       "\n",
       "    .dataframe thead th {\n",
       "        text-align: right;\n",
       "    }\n",
       "</style>\n",
       "<table border=\"1\" class=\"dataframe\">\n",
       "  <thead>\n",
       "    <tr style=\"text-align: right;\">\n",
       "      <th></th>\n",
       "      <th>name</th>\n",
       "    </tr>\n",
       "  </thead>\n",
       "  <tbody>\n",
       "    <tr>\n",
       "      <td>0</td>\n",
       "      <td>Woods Bar &amp; Brewery</td>\n",
       "    </tr>\n",
       "    <tr>\n",
       "      <td>2</td>\n",
       "      <td>Diving Dog Brewhouse</td>\n",
       "    </tr>\n",
       "    <tr>\n",
       "      <td>4</td>\n",
       "      <td>Drake's Dealership</td>\n",
       "    </tr>\n",
       "    <tr>\n",
       "      <td>23</td>\n",
       "      <td>Telegraph Bar and Beer Garden</td>\n",
       "    </tr>\n",
       "    <tr>\n",
       "      <td>27</td>\n",
       "      <td>Modern Times</td>\n",
       "    </tr>\n",
       "    <tr>\n",
       "      <td>28</td>\n",
       "      <td>Floodcraft Taproom</td>\n",
       "    </tr>\n",
       "    <tr>\n",
       "      <td>29</td>\n",
       "      <td>Crossburgers</td>\n",
       "    </tr>\n",
       "  </tbody>\n",
       "</table>\n",
       "</div>"
      ],
      "text/plain": [
       "                             name\n",
       "0             Woods Bar & Brewery\n",
       "2            Diving Dog Brewhouse\n",
       "4              Drake's Dealership\n",
       "23  Telegraph Bar and Beer Garden\n",
       "27                   Modern Times\n",
       "28             Floodcraft Taproom\n",
       "29                   Crossburgers"
      ]
     },
     "execution_count": 73,
     "metadata": {},
     "output_type": "execute_result"
    }
   ],
   "source": [
    "Breweries.loc[Breweries['Clus_DB'] == 2, Breweries.columns[[0]]]"
   ]
  },
  {
   "cell_type": "code",
   "execution_count": 74,
   "metadata": {},
   "outputs": [
    {
     "data": {
      "text/html": [
       "<div>\n",
       "<style scoped>\n",
       "    .dataframe tbody tr th:only-of-type {\n",
       "        vertical-align: middle;\n",
       "    }\n",
       "\n",
       "    .dataframe tbody tr th {\n",
       "        vertical-align: top;\n",
       "    }\n",
       "\n",
       "    .dataframe thead th {\n",
       "        text-align: right;\n",
       "    }\n",
       "</style>\n",
       "<table border=\"1\" class=\"dataframe\">\n",
       "  <thead>\n",
       "    <tr style=\"text-align: right;\">\n",
       "      <th></th>\n",
       "      <th>name</th>\n",
       "    </tr>\n",
       "  </thead>\n",
       "  <tbody>\n",
       "    <tr>\n",
       "      <td>1</td>\n",
       "      <td>Original Pattern Brewing Company</td>\n",
       "    </tr>\n",
       "    <tr>\n",
       "      <td>12</td>\n",
       "      <td>Independent Brewing Company</td>\n",
       "    </tr>\n",
       "    <tr>\n",
       "      <td>20</td>\n",
       "      <td>Federation Brewing</td>\n",
       "    </tr>\n",
       "    <tr>\n",
       "      <td>24</td>\n",
       "      <td>The Trappist</td>\n",
       "    </tr>\n",
       "  </tbody>\n",
       "</table>\n",
       "</div>"
      ],
      "text/plain": [
       "                                name\n",
       "1   Original Pattern Brewing Company\n",
       "12       Independent Brewing Company\n",
       "20                Federation Brewing\n",
       "24                      The Trappist"
      ]
     },
     "execution_count": 74,
     "metadata": {},
     "output_type": "execute_result"
    }
   ],
   "source": [
    "Breweries.loc[Breweries['Clus_DB'] == 3, Breweries.columns[[0]]]"
   ]
  },
  {
   "cell_type": "code",
   "execution_count": 37,
   "metadata": {},
   "outputs": [
    {
     "data": {
      "text/html": [
       "<div>\n",
       "<style scoped>\n",
       "    .dataframe tbody tr th:only-of-type {\n",
       "        vertical-align: middle;\n",
       "    }\n",
       "\n",
       "    .dataframe tbody tr th {\n",
       "        vertical-align: top;\n",
       "    }\n",
       "\n",
       "    .dataframe thead th {\n",
       "        text-align: right;\n",
       "    }\n",
       "</style>\n",
       "<table border=\"1\" class=\"dataframe\">\n",
       "  <thead>\n",
       "    <tr style=\"text-align: right;\">\n",
       "      <th></th>\n",
       "      <th>name</th>\n",
       "    </tr>\n",
       "  </thead>\n",
       "  <tbody>\n",
       "  </tbody>\n",
       "</table>\n",
       "</div>"
      ],
      "text/plain": [
       "Empty DataFrame\n",
       "Columns: [name]\n",
       "Index: []"
      ]
     },
     "execution_count": 37,
     "metadata": {},
     "output_type": "execute_result"
    }
   ],
   "source": [
    "Breweries.loc[Breweries['Clus_DB'] == 4, Breweries.columns[[0]]]"
   ]
  },
  {
   "cell_type": "code",
   "execution_count": null,
   "metadata": {},
   "outputs": [],
   "source": []
  }
 ],
 "metadata": {
  "kernelspec": {
   "display_name": "Python 3",
   "language": "python",
   "name": "python3"
  },
  "language_info": {
   "codemirror_mode": {
    "name": "ipython",
    "version": 3
   },
   "file_extension": ".py",
   "mimetype": "text/x-python",
   "name": "python",
   "nbconvert_exporter": "python",
   "pygments_lexer": "ipython3",
   "version": "3.7.4"
  }
 },
 "nbformat": 4,
 "nbformat_minor": 2
}
